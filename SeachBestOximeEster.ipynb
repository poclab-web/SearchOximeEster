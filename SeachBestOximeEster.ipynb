{
 "cells": [
  {
   "cell_type": "markdown",
   "id": "fa92cc96-c31b-4eda-bee8-d9d171456c11",
   "metadata": {},
   "source": [
    "# 背景\n",
    "生成モデルでオキシムエステルの生成を行いましたが、数がおおい"
   ]
  },
  {
   "cell_type": "code",
   "execution_count": 1,
   "id": "f6da1af5-21cc-4334-a6af-a3b1b7893733",
   "metadata": {},
   "outputs": [],
   "source": [
    "import pandas as pd"
   ]
  },
  {
   "cell_type": "code",
   "execution_count": 4,
   "id": "ba0a3de4-69ca-4ad2-ba96-3775a53dbd61",
   "metadata": {},
   "outputs": [
    {
     "data": {
      "text/html": [
       "<div>\n",
       "<style scoped>\n",
       "    .dataframe tbody tr th:only-of-type {\n",
       "        vertical-align: middle;\n",
       "    }\n",
       "\n",
       "    .dataframe tbody tr th {\n",
       "        vertical-align: top;\n",
       "    }\n",
       "\n",
       "    .dataframe thead th {\n",
       "        text-align: right;\n",
       "    }\n",
       "</style>\n",
       "<table border=\"1\" class=\"dataframe\">\n",
       "  <thead>\n",
       "    <tr style=\"text-align: right;\">\n",
       "      <th></th>\n",
       "      <th>Smiles</th>\n",
       "      <th>T1</th>\n",
       "      <th>S1</th>\n",
       "      <th>S1_osc</th>\n",
       "      <th>similarity</th>\n",
       "      <th>Scaffold</th>\n",
       "      <th>oxime_num</th>\n",
       "      <th>keton</th>\n",
       "    </tr>\n",
       "  </thead>\n",
       "  <tbody>\n",
       "    <tr>\n",
       "      <th>0</th>\n",
       "      <td>CC(=O)O\\N=C/c1ccc(Cl)cc1</td>\n",
       "      <td>2.627373</td>\n",
       "      <td>4.566069</td>\n",
       "      <td>0.879576</td>\n",
       "      <td>1.000000</td>\n",
       "      <td>c1ccccc1</td>\n",
       "      <td>1</td>\n",
       "      <td>NaN</td>\n",
       "    </tr>\n",
       "    <tr>\n",
       "      <th>1</th>\n",
       "      <td>C/C(=N/OC(=O)c1ccccc1)c1ccccc1</td>\n",
       "      <td>2.830630</td>\n",
       "      <td>4.727700</td>\n",
       "      <td>0.575377</td>\n",
       "      <td>1.000000</td>\n",
       "      <td>O=C(ON=Cc1ccccc1)c1ccccc1</td>\n",
       "      <td>1</td>\n",
       "      <td>CC(=O)c1ccccc1</td>\n",
       "    </tr>\n",
       "    <tr>\n",
       "      <th>2</th>\n",
       "      <td>O=C(O/N=C/c1ccccc1)C(=O)ON=C(c1ccccc1)C(c1cccc...</td>\n",
       "      <td>2.487950</td>\n",
       "      <td>4.363856</td>\n",
       "      <td>0.972207</td>\n",
       "      <td>0.536585</td>\n",
       "      <td>O=C(ON=C(c1ccccc1)C(c1ccccc1)c1ccccc1)C(=O)O/N...</td>\n",
       "      <td>2</td>\n",
       "      <td>O=C(c1ccccc1)C(c1ccccc1)c1ccccc1</td>\n",
       "    </tr>\n",
       "    <tr>\n",
       "      <th>3</th>\n",
       "      <td>CCCCCC(/C(=N/OC(=O)C)c1ccc(Cl)cc1)=N\\OC(=O)C</td>\n",
       "      <td>2.504756</td>\n",
       "      <td>4.149163</td>\n",
       "      <td>0.506938</td>\n",
       "      <td>1.000000</td>\n",
       "      <td>c1ccccc1</td>\n",
       "      <td>2</td>\n",
       "      <td>CCCCCC(=O)C(=O)c1ccc(Cl)cc1</td>\n",
       "    </tr>\n",
       "    <tr>\n",
       "      <th>4</th>\n",
       "      <td>C/C(CC(=O)O/N=C\\c1ccccc1)=N\\OC(C)=O</td>\n",
       "      <td>2.540638</td>\n",
       "      <td>4.326961</td>\n",
       "      <td>0.580047</td>\n",
       "      <td>1.000000</td>\n",
       "      <td>c1ccccc1</td>\n",
       "      <td>2</td>\n",
       "      <td>CC(=O)CC(=O)O/N=C\\c1ccccc1</td>\n",
       "    </tr>\n",
       "  </tbody>\n",
       "</table>\n",
       "</div>"
      ],
      "text/plain": [
       "                                              Smiles        T1        S1  \\\n",
       "0                           CC(=O)O\\N=C/c1ccc(Cl)cc1  2.627373  4.566069   \n",
       "1                     C/C(=N/OC(=O)c1ccccc1)c1ccccc1  2.830630  4.727700   \n",
       "2  O=C(O/N=C/c1ccccc1)C(=O)ON=C(c1ccccc1)C(c1cccc...  2.487950  4.363856   \n",
       "3       CCCCCC(/C(=N/OC(=O)C)c1ccc(Cl)cc1)=N\\OC(=O)C  2.504756  4.149163   \n",
       "4                C/C(CC(=O)O/N=C\\c1ccccc1)=N\\OC(C)=O  2.540638  4.326961   \n",
       "\n",
       "     S1_osc  similarity                                           Scaffold  \\\n",
       "0  0.879576    1.000000                                           c1ccccc1   \n",
       "1  0.575377    1.000000                          O=C(ON=Cc1ccccc1)c1ccccc1   \n",
       "2  0.972207    0.536585  O=C(ON=C(c1ccccc1)C(c1ccccc1)c1ccccc1)C(=O)O/N...   \n",
       "3  0.506938    1.000000                                           c1ccccc1   \n",
       "4  0.580047    1.000000                                           c1ccccc1   \n",
       "\n",
       "   oxime_num                             keton  \n",
       "0          1                               NaN  \n",
       "1          1                    CC(=O)c1ccccc1  \n",
       "2          2  O=C(c1ccccc1)C(c1ccccc1)c1ccccc1  \n",
       "3          2       CCCCCC(=O)C(=O)c1ccc(Cl)cc1  \n",
       "4          2        CC(=O)CC(=O)O/N=C\\c1ccccc1  "
      ]
     },
     "execution_count": 4,
     "metadata": {},
     "output_type": "execute_result"
    }
   ],
   "source": [
    "df = pd.read_csv(\"oxime_with_keton.csv\", index_col=0)\n",
    "df.head()"
   ]
  },
  {
   "cell_type": "code",
   "execution_count": 3,
   "id": "0178421a-b523-40e0-a3d7-a8f82a5223e2",
   "metadata": {},
   "outputs": [
    {
     "name": "stdout",
     "output_type": "stream",
     "text": [
      "['Smiles', 'T1', 'S1', 'S1_osc', 'similarity', 'Scaffold', 'oxime_num', 'keton']\n"
     ]
    }
   ],
   "source": [
    "print(list(df.columns))"
   ]
  }
 ],
 "metadata": {
  "kernelspec": {
   "display_name": "Python 3 (ipykernel)",
   "language": "python",
   "name": "python3"
  },
  "language_info": {
   "codemirror_mode": {
    "name": "ipython",
    "version": 3
   },
   "file_extension": ".py",
   "mimetype": "text/x-python",
   "name": "python",
   "nbconvert_exporter": "python",
   "pygments_lexer": "ipython3",
   "version": "3.8.3"
  }
 },
 "nbformat": 4,
 "nbformat_minor": 5
}
